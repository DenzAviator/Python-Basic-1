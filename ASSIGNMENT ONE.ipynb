{
 "cells": [
  {
   "cell_type": "markdown",
   "id": "e6c519e0",
   "metadata": {},
   "source": [
    "1.  In the below elements which of them are values or an expression? eg:- values can be integer or string and expressions will be mathematical operators.\n",
    "\n",
    "    * \n",
    "\n",
    "    'hello'\n",
    "\n",
    "    -87.8\n",
    "\n",
    "    - \n",
    "\n",
    "    / \n",
    "\n",
    "     .+\n",
    "\n",
    "    6 \n"
   ]
  },
  {
   "cell_type": "markdown",
   "id": "9573ce75",
   "metadata": {},
   "source": [
    "'*'  is an expression in python programming that represents multiplcation operator.\n",
    "\n",
    "'hello' is a value in python programming and its represent a string.\n",
    "\n",
    "-87.8 is a value and specificallyrepresent a floating-point number.\n",
    "\n",
    "'-' is an expression and represent the subtraction operator.\n",
    "\n",
    "'/' is an expression representing the devision operator.\n",
    "\n",
    "'+' is an expression and its represent addition operator.\n",
    "\n",
    "6 is a value and its an interger."
   ]
  },
  {
   "cell_type": "code",
   "execution_count": null,
   "id": "45a6c587",
   "metadata": {},
   "outputs": [],
   "source": []
  },
  {
   "cell_type": "markdown",
   "id": "65181364",
   "metadata": {},
   "source": [
    "2.   What is the difference between string and variables?"
   ]
  },
  {
   "cell_type": "markdown",
   "id": "d42db152",
   "metadata": {},
   "source": [
    "- A string in python programming is one of the data type that is used to represent sequence of characters.\n",
    "   For example letters, digits etc. String are enclosed in single or double quotation marks, (' ') or (\" \").\n",
    "example of string:-\n",
    "    \n",
    "a. a = 'ineuron'\n",
    "\n",
    "b. c = \"Nigeria\"\n",
    "\n",
    "- A variable in python programming is also one of the data types, is a named location used to store data in memory.\n",
    " \n",
    "A variable is declared by writing the variable name and then assign a value using the equals sign(=).\n",
    "\n",
    "Example\n",
    "\n",
    "a = 8\n",
    "\n",
    "b = 10"
   ]
  },
  {
   "cell_type": "code",
   "execution_count": null,
   "id": "0cdc9b51",
   "metadata": {},
   "outputs": [],
   "source": []
  },
  {
   "cell_type": "markdown",
   "id": "33cadf33",
   "metadata": {},
   "source": [
    "3.  Describe three different data types"
   ]
  },
  {
   "cell_type": "markdown",
   "id": "0ada627b",
   "metadata": {},
   "source": [
    "- The three data types that I will explain or describe are:-\n",
    "    \n",
    "    a. Integers\n",
    "    \n",
    "    b. List\n",
    "    \n",
    "    c. Float\n",
    "    \n",
    "    Explanation:-\n",
    "        \n",
    "        a. Integers\n",
    "           Integers can be defined or seen as the data type that is being represented by a whole numbers without any form of decimal parts or fractions.Integers can be a negative or positive numbers.And can be used in mathematical operations like addition, subtraction, division and multiplication.\n",
    "            \n",
    "            Examples of integers 4, -5, 6, 3, 9, -3 etc\n",
    "            \n",
    "            "
   ]
  },
  {
   "cell_type": "code",
   "execution_count": 1,
   "id": "e3c4c415",
   "metadata": {},
   "outputs": [
    {
     "name": "stdout",
     "output_type": "stream",
     "text": [
      "5\n",
      "10\n",
      "10\n"
     ]
    }
   ],
   "source": [
    "#in a python programming form of integers\n",
    "          \n",
    "y = 5\n",
    "print(y)\n",
    "z =  10\n",
    "print(z)\n",
    "x = -7\n",
    "print(z)"
   ]
  },
  {
   "cell_type": "code",
   "execution_count": null,
   "id": "c2972404",
   "metadata": {},
   "outputs": [],
   "source": []
  },
  {
   "cell_type": "markdown",
   "id": "b19dd767",
   "metadata": {},
   "source": [
    "b. List\n",
    "     List can be seen or defined as an ordered collection items. List are mutable which means their elements can be changed, added, deleted, or modified after they are createdList are enclosed inside a square brackets [], separated by commas.List is Heterogeneous, it Means that it contains different data types, e.g integers, floats, strings or tuples.\n",
    "             "
   ]
  },
  {
   "cell_type": "code",
   "execution_count": 19,
   "id": "b7667846",
   "metadata": {},
   "outputs": [
    {
     "name": "stdout",
     "output_type": "stream",
     "text": [
      "['Nigeria', 'India', 'Uk', 'Ghana']\n",
      "['Dennis', 'Gwafan', 'Chat', 'Alice']\n"
     ]
    }
   ],
   "source": [
    "#Examples\n",
    "country = ['Nigeria', 'India', 'Uk', 'Ghana']\n",
    "print(country) \n",
    "    \n",
    "names = [\"Dennis\", \"Gwafan\", \"Chat\", \"Alice\"]\n",
    "print(names)"
   ]
  },
  {
   "cell_type": "code",
   "execution_count": null,
   "id": "789d981d",
   "metadata": {},
   "outputs": [],
   "source": []
  },
  {
   "cell_type": "markdown",
   "id": "84c75375",
   "metadata": {},
   "source": [
    "c. Float\n",
    "           Floats can be seen or defined as the data type that represents numbers with decimal parts or fractions. Floats can also be positive or negative numbers just like integers.\n",
    "           \n",
    "             Examples of integers 3.6, 9.3, -3.57, 7.77 etc"
   ]
  },
  {
   "cell_type": "code",
   "execution_count": 20,
   "id": "a5a547a4",
   "metadata": {},
   "outputs": [
    {
     "name": "stdout",
     "output_type": "stream",
     "text": [
      "4.578\n",
      "8.367\n",
      "3.148\n"
     ]
    }
   ],
   "source": [
    "#In python programming form\n",
    "x = 4.578\n",
    "print(x)\n",
    "a = 8.367\n",
    "print(a)\n",
    "y = 3.148\n",
    "print(y)"
   ]
  },
  {
   "cell_type": "code",
   "execution_count": null,
   "id": "a1993b43",
   "metadata": {},
   "outputs": [],
   "source": []
  },
  {
   "cell_type": "markdown",
   "id": "1268c800",
   "metadata": {},
   "source": [
    "4.   What is an expression made up of? What do all expressions do?"
   ]
  },
  {
   "cell_type": "markdown",
   "id": "79fca920",
   "metadata": {},
   "source": [
    "An expression is made up of one or more elements, which include variables, values, operators and also a function calls. An expression represents a computation or a calculation that brings out a value. some commonly found expressions are.\n",
    "\n",
    "i. Operators:- Perform specific operations on the operands(variables,constants etc, examples of arithmetic operators(+,-,*), logical operators(and, or, not), and comparison operators(=,!,>,<,==)\n",
    "\n",
    "ii Variables:- Represent symbols or names that hold values. They can be numeric, boolean, or string variables, among others.\n",
    "    \n",
    " \n",
    "iii. Constants:- Represent fixed values such as numbers, strings, or boolean e.g '5','hello',or, 'True'.                         \n",
    "\n",
    "\n",
    "Expression Are used to evaluate and produce a value, can also be used in conditionals loops and other part of program. Expression are fundamentals building block of programming as they enable computations, comparisons and manipulations of data."
   ]
  },
  {
   "cell_type": "code",
   "execution_count": null,
   "id": "b38ee71c",
   "metadata": {},
   "outputs": [],
   "source": []
  },
  {
   "cell_type": "markdown",
   "id": "a3e962c0",
   "metadata": {},
   "source": [
    "5.   This assignment statements, like spam = 10. What is the difference between an expression and a statement?"
   ]
  },
  {
   "cell_type": "markdown",
   "id": "66a1d888",
   "metadata": {},
   "source": [
    "The main difference between an expression and a statement lies in their purpose and behavior within a program.\n",
    "\n",
    "Expression:-\n",
    "    An expression is a combination of values, variables, operators, and function calls that can be evaluated to produce a single value. It represents a computation or calculation that yields a result\n",
    "    Example, in the expression 'spam = 10 + 5' the expression '10 + 5' represents the addition operation, and the result of expression is 15.\n",
    "    \n",
    "    \n",
    "Statement:-\n",
    "    A statement is a complete instruction or action that performs a specific task or operation. It represents a complete line of code that carries out a particular action. Statements can include expressions, but they go beyond just producing a value. They perform an action or change the state of the program.\n",
    "    Example \"spam = 10\" is a statement. It assigns the value 10 to the variable \"spam\"\n",
    "    \n",
    "    \n",
    "In summary, an expression is a combination of variables, constants, and operaors that evaluates to a value, while a statement is a complete instruction or action that performs a task or changes the programs state. Expressions are used within a statement to produce values or determine the behavior of the program."
   ]
  },
  {
   "cell_type": "code",
   "execution_count": null,
   "id": "1f0133e3",
   "metadata": {},
   "outputs": [],
   "source": []
  },
  {
   "cell_type": "markdown",
   "id": "27e3d2c1",
   "metadata": {},
   "source": [
    "6.   After running the following code, what does the variable bacon contain?\n",
    "\n",
    "bacon = 22\n",
    "\n",
    "bacon + 1\n"
   ]
  },
  {
   "cell_type": "code",
   "execution_count": 3,
   "id": "6629d822",
   "metadata": {},
   "outputs": [],
   "source": [
    "bacon = 22"
   ]
  },
  {
   "cell_type": "code",
   "execution_count": 4,
   "id": "5ee0a7e0",
   "metadata": {},
   "outputs": [
    {
     "data": {
      "text/plain": [
       "23"
      ]
     },
     "execution_count": 4,
     "metadata": {},
     "output_type": "execute_result"
    }
   ],
   "source": [
    "bacon + 1"
   ]
  },
  {
   "cell_type": "code",
   "execution_count": null,
   "id": "7124f3b9",
   "metadata": {},
   "outputs": [],
   "source": []
  },
  {
   "cell_type": "markdown",
   "id": "9e31af4e",
   "metadata": {},
   "source": [
    "7.   What should the values of the following two terms be?\n",
    "\n",
    "'spam' + 'spamspam'\n",
    "\n",
    "'spam' * 3\n",
    "\n"
   ]
  },
  {
   "cell_type": "markdown",
   "id": "44d3c845",
   "metadata": {},
   "source": [
    "a. 'spam' + 'spamspam' This is a concatenation of two strings 'spam' and 'spamspam'. Therefore the value would be 'spamspamspamspam'\n",
    "\n",
    "b. 'spam'*3:\n",
    "    The asterisk( * ) operator, when used in string, represents string repetition. In this case, the string \"spam\" is repeated three times. The value of this expression would be 'spamspamspam'"
   ]
  },
  {
   "cell_type": "code",
   "execution_count": null,
   "id": "34950e7f",
   "metadata": {},
   "outputs": [],
   "source": []
  },
  {
   "cell_type": "markdown",
   "id": "86ae6bbf",
   "metadata": {},
   "source": [
    "8.  Why is eggs a valid variable name while 100 is invalid?"
   ]
  },
  {
   "cell_type": "markdown",
   "id": "799fc2a5",
   "metadata": {},
   "source": [
    "Reasons is that variables are used to identify or refer to specific values or data stored in the computers memory.\n",
    "    i. they must start with letter which the name \"eggs\" staart with it\n",
    "    11. \"100\" is invalid because a variable can not start with a number and \"100\", starts with \"1\"\n",
    "    \n",
    "    NOTE:- A variable start with a letter either small or capital letter, or an underscore, NOT a digit."
   ]
  },
  {
   "cell_type": "code",
   "execution_count": null,
   "id": "3164a4cd",
   "metadata": {},
   "outputs": [],
   "source": []
  },
  {
   "cell_type": "markdown",
   "id": "ba09b112",
   "metadata": {},
   "source": [
    "9.  What three functions can be used to get the integer, floating-point number, or string version of a value?"
   ]
  },
  {
   "cell_type": "markdown",
   "id": "a80c20ab",
   "metadata": {},
   "source": [
    "In python programming language, once can use the following three functions to obtain the interger, floating-point numbers, or sting version of a value"
   ]
  },
  {
   "cell_type": "markdown",
   "id": "6d7744e1",
   "metadata": {},
   "source": [
    "a. integer\n",
    "\n",
    "\"int()\": This function is used to convert a value into an interger. It can be used to convert numerical values or strings containing numeric characters into integers.\n",
    "    examples"
   ]
  },
  {
   "cell_type": "code",
   "execution_count": 6,
   "id": "1ea2c9c9",
   "metadata": {},
   "outputs": [
    {
     "name": "stdout",
     "output_type": "stream",
     "text": [
      "5\n",
      "10\n"
     ]
    }
   ],
   "source": [
    "integer_value = int(5.5)\n",
    "print(integer_value)\n",
    "\n",
    "\n",
    "string_value = \"10\"\n",
    "integer_value = int(string_value)\n",
    "print(integer_value)"
   ]
  },
  {
   "cell_type": "markdown",
   "id": "34bbef74",
   "metadata": {},
   "source": [
    "b. floats:-\n",
    "     This function is used to convert a value into an floating_point number(decimal number). It can be used to convert numerical values or strings containing numeric characters into floats. examples"
   ]
  },
  {
   "cell_type": "code",
   "execution_count": 8,
   "id": "90cc0504",
   "metadata": {},
   "outputs": [
    {
     "name": "stdout",
     "output_type": "stream",
     "text": [
      "10\n",
      "3.14\n"
     ]
    }
   ],
   "source": [
    "float_value = int(10)\n",
    "print(float_value)\n",
    "\n",
    "\n",
    "string_value = \"3.14\"\n",
    "float_value = float(string_value)\n",
    "print(float_value)"
   ]
  },
  {
   "cell_type": "markdown",
   "id": "3daaeb58",
   "metadata": {},
   "source": [
    "c. \"string()\":- This function is used to convert a value into an string. It can be used to convert any value, including integers, floating_point numbers, or other data types, into s string representation. For examples:\n",
    "        "
   ]
  },
  {
   "cell_type": "code",
   "execution_count": 9,
   "id": "9288370e",
   "metadata": {},
   "outputs": [
    {
     "name": "stdout",
     "output_type": "stream",
     "text": [
      "40\n",
      "3.14\n"
     ]
    }
   ],
   "source": [
    "integer_value = 40\n",
    "string_value = str(integer_value)\n",
    "print(string_value)\n",
    "\n",
    "\n",
    "float_value = \"3.14\"\n",
    "string_value = str(float_value)\n",
    "print(string_value)"
   ]
  },
  {
   "cell_type": "code",
   "execution_count": null,
   "id": "3fafada3",
   "metadata": {},
   "outputs": [],
   "source": []
  },
  {
   "cell_type": "markdown",
   "id": "151f6b6d",
   "metadata": {},
   "source": [
    "10.   Why does this expression cause an error? How can you fix it?\n",
    "\n",
    "'I have eaten ' + 99 + ' burritos.'\n",
    "\n"
   ]
  },
  {
   "cell_type": "markdown",
   "id": "5016e6a6",
   "metadata": {},
   "source": [
    "The expression 'I have eaten ' + 99 + ' burritos.' causes an error because it involves concatenating s string with a number directly. TO fix this error, you need to convert the number \"99\" to string because concatenating it with the other strings.\n",
    "\n",
    "'I have eaten ' + str(9)9 + ' burritos.'"
   ]
  },
  {
   "cell_type": "code",
   "execution_count": 10,
   "id": "9c439332",
   "metadata": {},
   "outputs": [
    {
     "data": {
      "text/plain": [
       "'I have eaten 99 burritos.'"
      ]
     },
     "execution_count": 10,
     "metadata": {},
     "output_type": "execute_result"
    }
   ],
   "source": [
    "'I have eaten ' + str(99) + ' burritos.'"
   ]
  },
  {
   "cell_type": "code",
   "execution_count": null,
   "id": "5da342ce",
   "metadata": {},
   "outputs": [],
   "source": []
  },
  {
   "cell_type": "code",
   "execution_count": null,
   "id": "a894fff7",
   "metadata": {},
   "outputs": [],
   "source": []
  },
  {
   "cell_type": "code",
   "execution_count": null,
   "id": "f33aab5e",
   "metadata": {},
   "outputs": [],
   "source": []
  },
  {
   "cell_type": "code",
   "execution_count": null,
   "id": "c67068d1",
   "metadata": {},
   "outputs": [],
   "source": []
  }
 ],
 "metadata": {
  "kernelspec": {
   "display_name": "Python 3 (ipykernel)",
   "language": "python",
   "name": "python3"
  },
  "language_info": {
   "codemirror_mode": {
    "name": "ipython",
    "version": 3
   },
   "file_extension": ".py",
   "mimetype": "text/x-python",
   "name": "python",
   "nbconvert_exporter": "python",
   "pygments_lexer": "ipython3",
   "version": "3.10.9"
  }
 },
 "nbformat": 4,
 "nbformat_minor": 5
}
